{
  "nbformat": 4,
  "nbformat_minor": 0,
  "metadata": {
    "colab": {
      "provenance": [],
      "authorship_tag": "ABX9TyPy3Y+HPETmPbVROzVXRePo",
      "include_colab_link": true
    },
    "kernelspec": {
      "name": "python3",
      "display_name": "Python 3"
    },
    "language_info": {
      "name": "python"
    },
    "accelerator": "GPU"
  },
  "cells": [
    {
      "cell_type": "markdown",
      "metadata": {
        "id": "view-in-github",
        "colab_type": "text"
      },
      "source": [
        "<a href=\"https://colab.research.google.com/github/youngmin5068/ComputerVision/blob/main/MMdetection_video_inference.ipynb\" target=\"_parent\"><img src=\"https://colab.research.google.com/assets/colab-badge.svg\" alt=\"Open In Colab\"/></a>"
      ]
    },
    {
      "cell_type": "code",
      "source": [
        "!pip install openmim\n",
        "!mim install mmdet"
      ],
      "metadata": {
        "id": "DP9nbIIKdsbK"
      },
      "execution_count": null,
      "outputs": []
    },
    {
      "cell_type": "code",
      "source": [
        "!git clone https://github.com/open-mmlab/mmdetection.git"
      ],
      "metadata": {
        "colab": {
          "base_uri": "https://localhost:8080/"
        },
        "id": "I6jozhbGdv60",
        "outputId": "827c4375-83b0-4752-a521-9ce7ddfe035c"
      },
      "execution_count": 2,
      "outputs": [
        {
          "output_type": "stream",
          "name": "stdout",
          "text": [
            "Cloning into 'mmdetection'...\n",
            "remote: Enumerating objects: 31759, done.\u001b[K\n",
            "remote: Counting objects: 100% (339/339), done.\u001b[K\n",
            "remote: Compressing objects: 100% (255/255), done.\u001b[K\n",
            "remote: Total 31759 (delta 105), reused 266 (delta 84), pack-reused 31420\u001b[K\n",
            "Receiving objects: 100% (31759/31759), 40.93 MiB | 17.06 MiB/s, done.\n",
            "Resolving deltas: 100% (22725/22725), done.\n"
          ]
        }
      ]
    },
    {
      "cell_type": "code",
      "source": [
        "!cd mmdetection; python setup.py install"
      ],
      "metadata": {
        "id": "c-U02zBFej1m"
      },
      "execution_count": null,
      "outputs": []
    },
    {
      "cell_type": "code",
      "source": [
        "!pip uninstall mmdet\n",
        "!pip install openmim\n",
        "!mim install mmdet"
      ],
      "metadata": {
        "id": "l6nbZDgZj3d6"
      },
      "execution_count": null,
      "outputs": []
    },
    {
      "cell_type": "code",
      "source": [
        "!cd mmdetection; mkdir checkpoints"
      ],
      "metadata": {
        "id": "CrEaaAfUfoGF"
      },
      "execution_count": 2,
      "outputs": []
    },
    {
      "cell_type": "code",
      "source": [
        "!wget -O /content/mmdetection/checkpoints/faster_rcnn_r50_fpn_1x_coco_20200130-047c8118.pth https://download.openmmlab.com/mmdetection/v2.0/faster_rcnn/faster_rcnn_r50_fpn_1x_coco/faster_rcnn_r50_fpn_1x_coco_20200130-047c8118.pth"
      ],
      "metadata": {
        "id": "9sdlYyXWg_s8"
      },
      "execution_count": null,
      "outputs": []
    },
    {
      "cell_type": "code",
      "source": [
        "config_file = '/content/mmdetection/configs/faster_rcnn/faster_rcnn_r50_fpn_1x_coco.py'\n",
        "checkpoint_file = '/content/mmdetection/checkpoints/faster_rcnn_r50_fpn_1x_coco_20200130-047c8118.pth'"
      ],
      "metadata": {
        "id": "DblzniQ5hU9q"
      },
      "execution_count": 24,
      "outputs": []
    },
    {
      "cell_type": "code",
      "source": [
        "!wget -O /content/John_Wick_small.mp4 https://github.com/chulminkw/DLCV/blob/master/data/video/John_Wick_small.mp4?raw=true"
      ],
      "metadata": {
        "colab": {
          "base_uri": "https://localhost:8080/"
        },
        "id": "2YJIS0UbGJzH",
        "outputId": "409e8463-87ff-4f49-feb9-41aa6602cf16"
      },
      "execution_count": 40,
      "outputs": [
        {
          "output_type": "stream",
          "name": "stdout",
          "text": [
            "--2022-10-03 09:27:20--  https://github.com/chulminkw/DLCV/blob/master/data/video/John_Wick_small.mp4?raw=true\n",
            "Resolving github.com (github.com)... 20.205.243.166\n",
            "Connecting to github.com (github.com)|20.205.243.166|:443... connected.\n",
            "HTTP request sent, awaiting response... 302 Found\n",
            "Location: https://github.com/chulminkw/DLCV/raw/master/data/video/John_Wick_small.mp4 [following]\n",
            "--2022-10-03 09:27:21--  https://github.com/chulminkw/DLCV/raw/master/data/video/John_Wick_small.mp4\n",
            "Reusing existing connection to github.com:443.\n",
            "HTTP request sent, awaiting response... 302 Found\n",
            "Location: https://raw.githubusercontent.com/chulminkw/DLCV/master/data/video/John_Wick_small.mp4 [following]\n",
            "--2022-10-03 09:27:21--  https://raw.githubusercontent.com/chulminkw/DLCV/master/data/video/John_Wick_small.mp4\n",
            "Resolving raw.githubusercontent.com (raw.githubusercontent.com)... 185.199.110.133, 185.199.108.133, 185.199.111.133, ...\n",
            "Connecting to raw.githubusercontent.com (raw.githubusercontent.com)|185.199.110.133|:443... connected.\n",
            "HTTP request sent, awaiting response... 200 OK\n",
            "Length: 1794863 (1.7M) [application/octet-stream]\n",
            "Saving to: ‘/content/John_Wick_small.mp4’\n",
            "\n",
            "/content/John_Wick_ 100%[===================>]   1.71M  --.-KB/s    in 0.008s  \n",
            "\n",
            "2022-10-03 09:27:23 (228 MB/s) - ‘/content/John_Wick_small.mp4’ saved [1794863/1794863]\n",
            "\n"
          ]
        }
      ]
    },
    {
      "cell_type": "code",
      "source": [
        "from mmdet.apis import init_detector, inference_detector\n",
        "import mmcv"
      ],
      "metadata": {
        "id": "DW1de-g_Gqp2"
      },
      "execution_count": 41,
      "outputs": []
    },
    {
      "cell_type": "code",
      "source": [
        "model = init_detector(config_file, checkpoint_file, device='cuda:0')"
      ],
      "metadata": {
        "colab": {
          "base_uri": "https://localhost:8080/"
        },
        "id": "_aEBWnKuG2JC",
        "outputId": "f06be90b-c82b-425a-bf76-8036ecf18dab"
      },
      "execution_count": 42,
      "outputs": [
        {
          "output_type": "stream",
          "name": "stdout",
          "text": [
            "load checkpoint from local path: /content/mmdetection/checkpoints/faster_rcnn_r50_fpn_1x_coco_20200130-047c8118.pth\n"
          ]
        }
      ]
    },
    {
      "cell_type": "code",
      "source": [
        "# https://github.com/open-mmlab/mmdetection/blob/master/demo/video_demo.py 대로 video detection 수행. \n",
        "\n",
        "import cv2\n",
        "\n",
        "video_reader = mmcv.VideoReader('/content/John_Wick_small.mp4')\n",
        "video_writer = None\n",
        "fourcc = cv2.VideoWriter_fourcc(*'mp4v')\n",
        "video_writer = cv2.VideoWriter('/content/John_Wick_small_out1.mp4', fourcc, video_reader.fps,(video_reader.width, video_reader.height))\n",
        "\n",
        "for frame in mmcv.track_iter_progress(video_reader):\n",
        "  result = inference_detector(model, frame)\n",
        "  frame = model.show_result(frame, result, score_thr=0.4)\n",
        "\n",
        "  video_writer.write(frame)\n",
        "\n",
        "if video_writer:\n",
        "        video_writer.release()"
      ],
      "metadata": {
        "colab": {
          "base_uri": "https://localhost:8080/"
        },
        "id": "B3Dk2khFKVkP",
        "outputId": "8c9975b8-ca5d-41aa-817f-cea93055d37a"
      },
      "execution_count": 43,
      "outputs": [
        {
          "output_type": "stream",
          "name": "stdout",
          "text": [
            "[                                                  ] 0/58, elapsed: 0s, ETA:"
          ]
        },
        {
          "output_type": "stream",
          "name": "stderr",
          "text": [
            "/usr/local/lib/python3.7/dist-packages/mmdet-2.25.2-py3.7.egg/mmdet/datasets/utils.py:70: UserWarning: \"ImageToTensor\" pipeline is replaced by \"DefaultFormatBundle\" for batch inference. It is recommended to manually replace it in the test data pipeline in your config file.\n",
            "  'data pipeline in your config file.', UserWarning)\n"
          ]
        },
        {
          "output_type": "stream",
          "name": "stdout",
          "text": [
            "[>>>>>>>>>>>>>>>>>>>>>>>>>>>>>>>>] 58/58, 3.7 task/s, elapsed: 16s, ETA:     0s\n"
          ]
        }
      ]
    },
    {
      "cell_type": "code",
      "source": [
        "# 0부터 순차적으로 클래스 매핑된 label 적용. \n",
        "labels_to_names_seq = {0:'person',1:'bicycle',2:'car',3:'motorbike',4:'aeroplane',5:'bus',6:'train',7:'truck',8:'boat',9:'traffic light',10:'fire hydrant',\n",
        "                        11:'stop sign',12:'parking meter',13:'bench',14:'bird',15:'cat',16:'dog',17:'horse',18:'sheep',19:'cow',20:'elephant',\n",
        "                        21:'bear',22:'zebra',23:'giraffe',24:'backpack',25:'umbrella',26:'handbag',27:'tie',28:'suitcase',29:'frisbee',30:'skis',\n",
        "                        31:'snowboard',32:'sports ball',33:'kite',34:'baseball bat',35:'baseball glove',36:'skateboard',37:'surfboard',38:'tennis racket',39:'bottle',40:'wine glass',\n",
        "                        41:'cup',42:'fork',43:'knife',44:'spoon',45:'bowl',46:'banana',47:'apple',48:'sandwich',49:'orange',50:'broccoli',\n",
        "                        51:'carrot',52:'hot dog',53:'pizza',54:'donut',55:'cake',56:'chair',57:'sofa',58:'pottedplant',59:'bed',60:'diningtable',\n",
        "                        61:'toilet',62:'tvmonitor',63:'laptop',64:'mouse',65:'remote',66:'keyboard',67:'cell phone',68:'microwave',69:'oven',70:'toaster',\n",
        "                        71:'sink',72:'refrigerator',73:'book',74:'clock',75:'vase',76:'scissors',77:'teddy bear',78:'hair drier',79:'toothbrush' }\n"
      ],
      "metadata": {
        "id": "oTJ0l4QDLXYq"
      },
      "execution_count": 45,
      "outputs": []
    },
    {
      "cell_type": "code",
      "source": [
        "def get_detected_img(model, img_array, score_threshold=0.3, is_print=True):\n",
        "  draw_img = img_array.copy()\n",
        "  bbox_color=(0,255,0)\n",
        "  text_color=(0,0,255)\n",
        "\n",
        "  results = inference_detector(model,img_array)\n",
        "\n",
        "  for result_idx, result in enumerate(results):\n",
        "    \n",
        "    if len(result)==0:\n",
        "      continue\n",
        "    \n",
        "    result_filtered = result[np.where(result[:,4]>score_threshold)]\n",
        "\n",
        "    for i in range(len(result_filtered)):\n",
        "      left = int(result_filtered[i,0])\n",
        "      top = int(result_filtered[i,1])\n",
        "      right = int(result_filtered[i,2])\n",
        "      bottom = int(result_filtered[i,3])\n",
        "      caption=\"{}: {:.4f}\".format(labels_to_names_seq[result_idx], result_filtered[i,4])\n",
        "      cv2.rectangle(draw_img, (left,top),(right,bottom),color=bbox_color, thickness=2)\n",
        "      cv2.putText(draw_img, caption, (int(left),int(top)-7), cv2.FONT_HERSHEY_SIMPLEX,0.37,text_color,1)\n",
        "      if is_print:\n",
        "        print(caption)\n",
        "  return draw_img"
      ],
      "metadata": {
        "id": "b1tURnS8JTUJ"
      },
      "execution_count": 47,
      "outputs": []
    },
    {
      "cell_type": "code",
      "source": [
        "import time\n",
        "\n",
        "def do_detected_video(model, input_path, output_path, score_threshold, do_print=True):\n",
        "    \n",
        "    cap = cv2.VideoCapture(input_path)\n",
        "\n",
        "    codec = cv2.VideoWriter_fourcc(*'XVID')\n",
        "\n",
        "    vid_size = (round(cap.get(cv2.CAP_PROP_FRAME_WIDTH)),round(cap.get(cv2.CAP_PROP_FRAME_HEIGHT)))\n",
        "    vid_fps = cap.get(cv2.CAP_PROP_FPS)\n",
        "\n",
        "    vid_writer = cv2.VideoWriter(output_path, codec, vid_fps, vid_size) \n",
        "\n",
        "    frame_cnt = int(cap.get(cv2.CAP_PROP_FRAME_COUNT))\n",
        "    print('총 Frame 갯수:', frame_cnt)\n",
        "    btime = time.time()\n",
        "    while True:\n",
        "        hasFrame, img_frame = cap.read()\n",
        "        if not hasFrame:\n",
        "            print('더 이상 처리할 frame이 없습니다.')\n",
        "            break\n",
        "        stime = time.time()\n",
        "        img_frame = get_detected_img(model, img_frame,  score_threshold=score_threshold, is_print=False)\n",
        "        if do_print:\n",
        "          print('frame별 detection 수행 시간:', round(time.time() - stime, 4))\n",
        "        vid_writer.write(img_frame)\n",
        "    # end of while loop\n",
        "\n",
        "    vid_writer.release()\n",
        "    cap.release()\n",
        "\n",
        "    print('최종 detection 완료 수행 시간:', round(time.time() - btime, 4))"
      ],
      "metadata": {
        "id": "Qrqgs3rLLRrl"
      },
      "execution_count": 48,
      "outputs": []
    },
    {
      "cell_type": "code",
      "source": [
        "do_detected_video(model, '/content/John_Wick_small.mp4', '/content/John_Wick_small_out2.mp4', score_threshold=0.7, do_print=True)"
      ],
      "metadata": {
        "colab": {
          "base_uri": "https://localhost:8080/"
        },
        "id": "P5e5UGGiL34T",
        "outputId": "a234e4dc-2eed-48d3-f9e7-e8d7171854ef"
      },
      "execution_count": 49,
      "outputs": [
        {
          "output_type": "stream",
          "name": "stdout",
          "text": [
            "총 Frame 갯수: 58\n",
            "frame별 detection 수행 시간: 0.1592\n",
            "frame별 detection 수행 시간: 0.1225\n",
            "frame별 detection 수행 시간: 0.1197\n",
            "frame별 detection 수행 시간: 0.108\n",
            "frame별 detection 수행 시간: 0.1048\n",
            "frame별 detection 수행 시간: 0.108\n",
            "frame별 detection 수행 시간: 0.1077\n",
            "frame별 detection 수행 시간: 0.1066\n",
            "frame별 detection 수행 시간: 0.1051\n",
            "frame별 detection 수행 시간: 0.1066\n",
            "frame별 detection 수행 시간: 0.1063\n",
            "frame별 detection 수행 시간: 0.1103\n",
            "frame별 detection 수행 시간: 0.112\n",
            "frame별 detection 수행 시간: 0.1036\n",
            "frame별 detection 수행 시간: 0.1086\n",
            "frame별 detection 수행 시간: 0.1109\n",
            "frame별 detection 수행 시간: 0.106\n",
            "frame별 detection 수행 시간: 0.1093\n",
            "frame별 detection 수행 시간: 0.1023\n",
            "frame별 detection 수행 시간: 0.1079\n",
            "frame별 detection 수행 시간: 0.1058\n",
            "frame별 detection 수행 시간: 0.1067\n",
            "frame별 detection 수행 시간: 0.1077\n",
            "frame별 detection 수행 시간: 0.1058\n",
            "frame별 detection 수행 시간: 0.1052\n",
            "frame별 detection 수행 시간: 0.1065\n",
            "frame별 detection 수행 시간: 0.1074\n",
            "frame별 detection 수행 시간: 0.1071\n",
            "frame별 detection 수행 시간: 0.1051\n",
            "frame별 detection 수행 시간: 0.1079\n",
            "frame별 detection 수행 시간: 0.1055\n",
            "frame별 detection 수행 시간: 0.109\n",
            "frame별 detection 수행 시간: 0.1064\n",
            "frame별 detection 수행 시간: 0.1066\n",
            "frame별 detection 수행 시간: 0.1063\n",
            "frame별 detection 수행 시간: 0.1075\n",
            "frame별 detection 수행 시간: 0.1051\n",
            "frame별 detection 수행 시간: 0.1066\n",
            "frame별 detection 수행 시간: 0.1052\n",
            "frame별 detection 수행 시간: 0.1076\n",
            "frame별 detection 수행 시간: 0.1067\n",
            "frame별 detection 수행 시간: 0.1072\n",
            "frame별 detection 수행 시간: 0.1058\n",
            "frame별 detection 수행 시간: 0.1071\n",
            "frame별 detection 수행 시간: 0.108\n",
            "frame별 detection 수행 시간: 0.1074\n",
            "frame별 detection 수행 시간: 0.1056\n",
            "frame별 detection 수행 시간: 0.1092\n",
            "frame별 detection 수행 시간: 0.1056\n",
            "frame별 detection 수행 시간: 0.1063\n",
            "frame별 detection 수행 시간: 0.1059\n",
            "frame별 detection 수행 시간: 0.1074\n",
            "frame별 detection 수행 시간: 0.106\n",
            "frame별 detection 수행 시간: 0.106\n",
            "frame별 detection 수행 시간: 0.1041\n",
            "frame별 detection 수행 시간: 0.1089\n",
            "frame별 detection 수행 시간: 0.1043\n",
            "frame별 detection 수행 시간: 0.1065\n",
            "더 이상 처리할 frame이 없습니다.\n",
            "최종 detection 완료 수행 시간: 6.6851\n"
          ]
        }
      ]
    },
    {
      "cell_type": "code",
      "source": [],
      "metadata": {
        "id": "-lutjm85L-3f"
      },
      "execution_count": null,
      "outputs": []
    }
  ]
}